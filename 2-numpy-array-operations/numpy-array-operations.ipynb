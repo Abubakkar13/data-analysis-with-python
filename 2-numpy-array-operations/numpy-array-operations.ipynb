{
 "cells": [
  {
   "cell_type": "markdown",
   "metadata": {},
   "source": [
    "# 5 NumPy Operations I bet, you don't know!\n",
    "##### Author: [Tushar Nankani](https://www.linkedin.com/in/tusharnankani/)\n",
    "\n",
    "### *This Jupyter Notebook will take you to through 5 NumPy operations, with explainations and examples.*\n",
    "\n",
    "One of the main benefits is its **extensive set of libraries**, **a collection of routines and functions** that help data scientists perform complex tasks quite *effortlessly* without writing a single line of code. \n",
    "- One such important function is numerical Python aka **NumPy** which is a fundamental library, well known for *high-performance multi-dimensional array* and can be used for different mathematical functions like linear algebra, Fourier Transformations, etc. as well as logical operations.\n",
    "\n",
    "###### *This Jupyter Notebook will take you to through 5 NumPy operations, with explainations and examples.*\n",
    "\n",
    "- [np.where](http://localhost:8888/notebooks/Desktop/Jovian.ml/TUSHAR/numpy-assignment/numpy-array-operations.ipynb#Function-1---np.where)\n",
    "- [np.unravel_index](http://localhost:8888/notebooks/Desktop/Jovian.ml/TUSHAR/numpy-assignment/numpy-array-operations.ipynb#Function-2---np.unravel_index)\n",
    "- [np.random](http://localhost:8888/notebooks/Desktop/Jovian.ml/TUSHAR/numpy-assignment/numpy-array-operations.ipynb#Function-3---np.random)\n",
    "- [np.diag](http://localhost:8888/notebooks/Desktop/Jovian.ml/TUSHAR/numpy-assignment/numpy-array-operations.ipynb#Function-4---np.diag())\n",
    "- [np.pad](http://localhost:8888/notebooks/Desktop/Jovian.ml/TUSHAR/numpy-assignment/numpy-array-operations.ipynb#Function-5---np.pad)\n",
    "\n"
   ]
  },
  {
   "cell_type": "markdown",
   "metadata": {},
   "source": [
    "Let's begin by **importing Numpy** and *listing out the functions covered in this notebook*."
   ]
  },
  {
   "cell_type": "code",
   "execution_count": 1,
   "metadata": {},
   "outputs": [],
   "source": [
    "import numpy as np"
   ]
  },
  {
   "cell_type": "markdown",
   "metadata": {},
   "source": [
    "## List of functions explained \n",
    "```python\n",
    "function1 = np.where(condition, [x, y])\n",
    "function2 = np.unravel_index(indices, shape, order='C') \n",
    "function3 = np.random.randint(low, high=None, size=None, dtype='l')\n",
    "function4 = np.diag(array, k=0)\n",
    "function5 = np.pad(array, pad_width, mode='constant', **kwargs)\n",
    "```"
   ]
  },
  {
   "cell_type": "code",
   "execution_count": null,
   "metadata": {},
   "outputs": [],
   "source": []
  },
  {
   "cell_type": "code",
   "execution_count": null,
   "metadata": {},
   "outputs": [],
   "source": []
  },
  {
   "cell_type": "markdown",
   "metadata": {},
   "source": [
    "# Function 1 - `np.where`\n",
    "\n",
    "-  np.where() is an inbuilt function that **returns the indices of elements** in an input array where the given condition is satisfied.\n",
    "-  If you want to find the index in Numpy array, then you can use the **np.where()** function.\n",
    "\n",
    "```python\n",
    "np.where(condition, [x, y])\n",
    "```\n",
    "\n",
    "- Return elements chosen from `x` or `y` depending on `condition`.\n",
    "\n",
    "\n",
    "### Parameters\n",
    "- condition : array_like, bool\n",
    "    - Where True, yield `x`, otherwise yield `y`.\n",
    "- x, y : array_like\n",
    "    - Values from which to choose. `x`, `y` and `condition` need to be broadcastable to some shape.\n",
    "\n",
    "### Returns\n",
    "- out : ndarray\n",
    "    - An array with elements from `x` where `condition` is True, and elements from `y` elsewhere."
   ]
  },
  {
   "cell_type": "code",
   "execution_count": 2,
   "metadata": {},
   "outputs": [
    {
     "data": {
      "text/plain": [
       "(array([8], dtype=int64),)"
      ]
     },
     "execution_count": 2,
     "metadata": {},
     "output_type": "execute_result"
    }
   ],
   "source": [
    "# Example\n",
    "\n",
    "# Create a numpy array from a list of numbers\n",
    "arr = np.array([11, 12, 13, 14, 15, 16, 17, 18, 19, 20, 21])\n",
    "\n",
    "np.where(arr == 19)"
   ]
  },
  {
   "cell_type": "markdown",
   "metadata": {},
   "source": [
    "- **The result is a tuple of arrays (one for each axis) containing the indices where value 19 exists in the array.**\n",
    "- Tuple of arrays returned :  `(array([8], dtype=int64),)`\n",
    "- Elements with value 19 exists at following indices: `[8]`"
   ]
  },
  {
   "cell_type": "code",
   "execution_count": 3,
   "metadata": {},
   "outputs": [
    {
     "name": "stdout",
     "output_type": "stream",
     "text": [
      "[1 6 8]\n",
      "1\n"
     ]
    }
   ],
   "source": [
    "# Example \n",
    "arr = np.array([11, 19, 13, 14, 15, 11, 19, 21, 19, 20, 21])\n",
    "\n",
    "# Prints all indices where 19 is present;\n",
    "print(np.where(arr == 19)[0])\n",
    "\n",
    "# prints the first occurence of 19;\n",
    "print(np.where(arr == 19)[0][0])"
   ]
  },
  {
   "cell_type": "markdown",
   "metadata": {},
   "source": [
    "- ***Indexing*** will help to find various occurences of the the element we are looking at;"
   ]
  },
  {
   "cell_type": "code",
   "execution_count": 4,
   "metadata": {},
   "outputs": [
    {
     "data": {
      "text/plain": [
       "(array([ 1,  2,  6, 11], dtype=int64),)"
      ]
     },
     "execution_count": 4,
     "metadata": {},
     "output_type": "execute_result"
    }
   ],
   "source": [
    "# Using some condtion:\n",
    "arr = np.array([11, 19, 18, 14, 15, 11, 19, 21, 46, 29, 21, 19])\n",
    "\n",
    "np.where((arr > 15) & (arr < 21))\n"
   ]
  },
  {
   "cell_type": "markdown",
   "metadata": {},
   "source": [
    "- In the above example, it will return the element values, which are less than 21 and more than 14."
   ]
  },
  {
   "cell_type": "code",
   "execution_count": 5,
   "metadata": {},
   "outputs": [
    {
     "ename": "IndexError",
     "evalue": "index 0 is out of bounds for axis 0 with size 0",
     "output_type": "error",
     "traceback": [
      "\u001b[1;31m---------------------------------------------------------------------------\u001b[0m",
      "\u001b[1;31mIndexError\u001b[0m                                Traceback (most recent call last)",
      "\u001b[1;32m<ipython-input-5-e153fe1d4cae>\u001b[0m in \u001b[0;36m<module>\u001b[1;34m\u001b[0m\n\u001b[0;32m      1\u001b[0m \u001b[1;31m# Example\u001b[0m\u001b[1;33m\u001b[0m\u001b[1;33m\u001b[0m\u001b[1;33m\u001b[0m\u001b[0m\n\u001b[1;32m----> 2\u001b[1;33m \u001b[0mnp\u001b[0m\u001b[1;33m.\u001b[0m\u001b[0mwhere\u001b[0m\u001b[1;33m(\u001b[0m\u001b[0marr\u001b[0m \u001b[1;33m==\u001b[0m \u001b[1;36m100\u001b[0m\u001b[1;33m)\u001b[0m\u001b[1;33m[\u001b[0m\u001b[1;36m0\u001b[0m\u001b[1;33m]\u001b[0m\u001b[1;33m[\u001b[0m\u001b[1;36m0\u001b[0m\u001b[1;33m]\u001b[0m\u001b[1;33m\u001b[0m\u001b[1;33m\u001b[0m\u001b[0m\n\u001b[0m",
      "\u001b[1;31mIndexError\u001b[0m: index 0 is out of bounds for axis 0 with size 0"
     ]
    }
   ],
   "source": [
    "# Example\n",
    "np.where(arr == 100)[0][0]"
   ]
  },
  {
   "cell_type": "markdown",
   "metadata": {},
   "source": [
    "- If the element is not present, it returns an empty array;\n",
    "- Hence, we could avoid indexing and directly print the array."
   ]
  },
  {
   "cell_type": "code",
   "execution_count": 6,
   "metadata": {},
   "outputs": [
    {
     "data": {
      "text/plain": [
       "(array([0, 1, 2], dtype=int64), array([0, 2, 1], dtype=int64))"
      ]
     },
     "execution_count": 6,
     "metadata": {},
     "output_type": "execute_result"
    }
   ],
   "source": [
    "# For a 2D array;\n",
    "vec = np.array([[8, 2, 3], \n",
    "                [4, 5, 8], \n",
    "                [7, 8, 9]])\n",
    "\n",
    "np.where(vec == 8)"
   ]
  },
  {
   "cell_type": "markdown",
   "metadata": {},
   "source": [
    "- This returns a *different tuple* for every **different axis**;\n",
    "\n",
    "#### The best way to view them:"
   ]
  },
  {
   "cell_type": "code",
   "execution_count": 7,
   "metadata": {},
   "outputs": [
    {
     "name": "stdout",
     "output_type": "stream",
     "text": [
      "[(0, 0), (1, 2), (2, 1)]\n",
      "(0, 0)\n",
      "(1, 2)\n",
      "(2, 1)\n"
     ]
    }
   ],
   "source": [
    "result = np.where(vec == 8)\n",
    "\n",
    "listOfIndices = list(zip(result[0], result[1]))\n",
    "\n",
    "print(listOfIndices)\n",
    "\n",
    "for indice in listOfIndices:\n",
    "    print(indice)"
   ]
  },
  {
   "cell_type": "markdown",
   "metadata": {},
   "source": [
    "##### Some closing comments:\n",
    "- If you want to find the index of the value in Python numpy array, then **np.where().**"
   ]
  },
  {
   "cell_type": "code",
   "execution_count": null,
   "metadata": {},
   "outputs": [],
   "source": []
  },
  {
   "cell_type": "code",
   "execution_count": null,
   "metadata": {},
   "outputs": [],
   "source": []
  },
  {
   "cell_type": "markdown",
   "metadata": {},
   "source": [
    "# Function 2 - `np.unravel_index`\n",
    "\n",
    "- Converts a flat index or array of flat indices into a tuple of coordinate arrays.\n",
    "\n",
    "```python\n",
    "np.unravel_index(indices, shape, order='C')\n",
    "```\n",
    "\n",
    "#### Parameters\n",
    "\n",
    "- indices : array_like\n",
    "    - An integer array whose elements are indices into the flattened version of an array of dimensions ``shape``. \n",
    "    \n",
    "- shape : tuple of ints\n",
    "    - The shape of the array to use for unraveling ``indices``.\n",
    "\n",
    "- order : {'C', 'F'}, optional\n",
    "    - Determines whether the indices should be viewed as indexing in \n",
    "        - row-major (C-style) or;\n",
    "        - column-major (Fortran-style) order.\n",
    "        \n",
    "#### Returns\n",
    "\n",
    "- unraveled_coords : tuple of ndarray\n",
    "    - Each array in the tuple has the same shape as the ``indices`` array.\n",
    "\n",
    "\n"
   ]
  },
  {
   "cell_type": "markdown",
   "metadata": {},
   "source": [
    "### Consider a (6,7,8) shape array!"
   ]
  },
  {
   "cell_type": "code",
   "execution_count": 8,
   "metadata": {},
   "outputs": [],
   "source": [
    "arr = np.random.random((6, 7, 8))"
   ]
  },
  {
   "cell_type": "markdown",
   "metadata": {},
   "source": [
    "###  Now, what is the index (x,y,z) of the 100th element?"
   ]
  },
  {
   "cell_type": "markdown",
   "metadata": {},
   "source": [
    "#### Now the *naive approach* would be :\n",
    "- If a 3D matrix of size (6, 7, 8) is given, it would consist of 336 (6 * 7 * 8) elements;\n",
    "- so if we would want to find the **100th element**;\n",
    "- we could reshape it to 1D array, and find the element at the **99th index**;\n",
    "- for reshape we would have to do: `arr.reshape(336)`\n",
    "- **IMP: but we could also do: `arr.reshape(-1)`**\n",
    "    - this would covert any matrix shape, into a 1D array;\n",
    "- Then, we could use, `np.where(arr == 100th element)`"
   ]
  },
  {
   "cell_type": "code",
   "execution_count": 9,
   "metadata": {},
   "outputs": [
    {
     "data": {
      "text/plain": [
       "(array([1], dtype=int64), array([5], dtype=int64), array([3], dtype=int64))"
      ]
     },
     "execution_count": 9,
     "metadata": {},
     "output_type": "execute_result"
    }
   ],
   "source": [
    "# Naive approach\n",
    "np.where(arr == arr.reshape(-1)[99])"
   ]
  },
  {
   "cell_type": "markdown",
   "metadata": {},
   "source": [
    "##### Hence, the answer is: (1, 5, 3), but there's a better method;"
   ]
  },
  {
   "cell_type": "code",
   "execution_count": 10,
   "metadata": {},
   "outputs": [
    {
     "data": {
      "text/plain": [
       "(1, 5, 3)"
      ]
     },
     "execution_count": 10,
     "metadata": {},
     "output_type": "execute_result"
    }
   ],
   "source": [
    "# Example 1 - working\n",
    "np.unravel_index(99, (6, 7, 8))"
   ]
  },
  {
   "cell_type": "markdown",
   "metadata": {},
   "source": [
    "### This *directly* gives the ***index of any element***, *without having to create an array*."
   ]
  },
  {
   "cell_type": "code",
   "execution_count": 11,
   "metadata": {},
   "outputs": [
    {
     "data": {
      "text/plain": [
       "(array([1, 6, 2], dtype=int64), array([3, 5, 5], dtype=int64))"
      ]
     },
     "execution_count": 11,
     "metadata": {},
     "output_type": "execute_result"
    }
   ],
   "source": [
    "# Example 2 - working\n",
    "np.unravel_index([22, 41, 37], (7, 6), order = 'F') "
   ]
  },
  {
   "cell_type": "markdown",
   "metadata": {},
   "source": [
    "##### F stands for column-major (Fortran-style) order.\n",
    "- so, this gives:\n",
    "    - 22nd index - (1, 3)\n",
    "    - 41nd index - (6, 5)\n",
    "    - 37nd index - (2, 5)"
   ]
  },
  {
   "cell_type": "code",
   "execution_count": 12,
   "metadata": {},
   "outputs": [
    {
     "ename": "ValueError",
     "evalue": "index 4 is out of bounds for array with size 4",
     "output_type": "error",
     "traceback": [
      "\u001b[1;31m---------------------------------------------------------------------------\u001b[0m",
      "\u001b[1;31mValueError\u001b[0m                                Traceback (most recent call last)",
      "\u001b[1;32m<ipython-input-12-313bfe0ba4ba>\u001b[0m in \u001b[0;36m<module>\u001b[1;34m\u001b[0m\n\u001b[0;32m      1\u001b[0m \u001b[1;31m# Example 3 - breaking (to illustrate when it breaks)\u001b[0m\u001b[1;33m\u001b[0m\u001b[1;33m\u001b[0m\u001b[1;33m\u001b[0m\u001b[0m\n\u001b[1;32m----> 2\u001b[1;33m \u001b[0mnp\u001b[0m\u001b[1;33m.\u001b[0m\u001b[0munravel_index\u001b[0m\u001b[1;33m(\u001b[0m\u001b[1;36m4\u001b[0m\u001b[1;33m,\u001b[0m \u001b[1;33m(\u001b[0m\u001b[1;36m2\u001b[0m\u001b[1;33m,\u001b[0m \u001b[1;36m2\u001b[0m\u001b[1;33m)\u001b[0m\u001b[1;33m)\u001b[0m\u001b[1;33m\u001b[0m\u001b[1;33m\u001b[0m\u001b[0m\n\u001b[0m",
      "\u001b[1;32m<__array_function__ internals>\u001b[0m in \u001b[0;36munravel_index\u001b[1;34m(*args, **kwargs)\u001b[0m\n",
      "\u001b[1;31mValueError\u001b[0m: index 4 is out of bounds for array with size 4"
     ]
    }
   ],
   "source": [
    "# Example 3 - breaking (to illustrate when it breaks)\n",
    "np.unravel_index(4, (2, 2))"
   ]
  },
  {
   "cell_type": "markdown",
   "metadata": {},
   "source": [
    "- This precisely breaks because, there are only 4 elements (*indexed from 0 to 3*), hence 4th element doesn't exist;\n",
    "- This could be avoided if we made sure that the **index** we are passing is *strictly less than*the **the size of the matrix**..!!"
   ]
  },
  {
   "cell_type": "markdown",
   "metadata": {},
   "source": [
    "##### Some closing comments:\n",
    "- If you want to find the indices of specific elements, Column/Row wise, this function would be *very very helpful*!!"
   ]
  },
  {
   "cell_type": "code",
   "execution_count": null,
   "metadata": {},
   "outputs": [],
   "source": []
  },
  {
   "cell_type": "code",
   "execution_count": null,
   "metadata": {},
   "outputs": [],
   "source": []
  },
  {
   "cell_type": "markdown",
   "metadata": {},
   "source": [
    "# Function 3 - `np.random`\n",
    "###### This property has a lot of methods and I wanted to differentiate between them and let everyone know the **difference.**\n",
    "\n",
    "```python\n",
    "np.random.random((size=None))\n",
    "# Return random floats in the half-open interval [0.0, 1.0).\n",
    "\n",
    "\n",
    "np.rand(d0, d1, ..., dn)\n",
    "# Random values in a given shape.\n",
    "\n",
    "\n",
    "np.random.randn(d0, d1, ..., dn)\n",
    "# Return a sample (or samples) from the \"standard normal\" distribution.\n",
    "\n",
    "\n",
    "np.random.randint(low, high=None, size=None, dtype='l')\n",
    "# Return random integers from `low` (inclusive) to `high` (exclusive).\n",
    "```"
   ]
  },
  {
   "cell_type": "code",
   "execution_count": 13,
   "metadata": {},
   "outputs": [
    {
     "data": {
      "text/plain": [
       "array([[0.50568307, 0.66985235, 0.4496273 ],\n",
       "       [0.61531243, 0.50183194, 0.31340942],\n",
       "       [0.95830044, 0.42809031, 0.46162155],\n",
       "       [0.03345813, 0.04953914, 0.23415557],\n",
       "       [0.35477876, 0.75716488, 0.16918824]])"
      ]
     },
     "execution_count": 13,
     "metadata": {},
     "output_type": "execute_result"
    }
   ],
   "source": [
    "# Examples:\n",
    "# Note the parentheses in all; \n",
    "\n",
    "arr1 = np.random.random((5, 3))    # returns a random array of size (5, 3) in the half-open interval [0.0, 1.0)\n",
    "arr1"
   ]
  },
  {
   "cell_type": "code",
   "execution_count": 14,
   "metadata": {},
   "outputs": [
    {
     "data": {
      "text/plain": [
       "array([[0.57565793, 0.1357972 , 0.62321899],\n",
       "       [0.51946086, 0.40555523, 0.39768904],\n",
       "       [0.42194992, 0.16020807, 0.90767351],\n",
       "       [0.75323901, 0.01822832, 0.05601656],\n",
       "       [0.02612274, 0.02692122, 0.63364275]])"
      ]
     },
     "execution_count": 14,
     "metadata": {},
     "output_type": "execute_result"
    }
   ],
   "source": [
    "arr2 = np.random.rand(5, 3)        # returns a random array of size (5, 3)\n",
    "arr2"
   ]
  },
  {
   "cell_type": "code",
   "execution_count": 15,
   "metadata": {},
   "outputs": [
    {
     "data": {
      "text/plain": [
       "array([[ 1.36546995, -0.56689423, -0.78161556],\n",
       "       [ 2.10261382, -0.4199759 , -1.60504606],\n",
       "       [ 1.98128005,  0.05132418, -1.08060803],\n",
       "       [ 0.2488728 , -1.27827401, -1.49154348],\n",
       "       [-0.81413264,  0.7355861 , -0.04819203]])"
      ]
     },
     "execution_count": 15,
     "metadata": {},
     "output_type": "execute_result"
    }
   ],
   "source": [
    "arr3 = np.random.randn(5, 3)       # returns a random array of size (5, 3) from the \"standard normal\" distribution; it also includes negative values.\n",
    "arr3"
   ]
  },
  {
   "cell_type": "code",
   "execution_count": 16,
   "metadata": {},
   "outputs": [
    {
     "data": {
      "text/plain": [
       "7"
      ]
     },
     "execution_count": 16,
     "metadata": {},
     "output_type": "execute_result"
    }
   ],
   "source": [
    "arr4 = np.random.randint(5, 10)    # returns a random array of default size 1, between [5, 10)\n",
    "arr4"
   ]
  },
  {
   "cell_type": "code",
   "execution_count": 17,
   "metadata": {},
   "outputs": [
    {
     "data": {
      "text/plain": [
       "array([[8, 5, 8],\n",
       "       [8, 9, 7],\n",
       "       [7, 6, 9],\n",
       "       [7, 5, 6],\n",
       "       [6, 7, 5]])"
      ]
     },
     "execution_count": 17,
     "metadata": {},
     "output_type": "execute_result"
    }
   ],
   "source": [
    "arr5 = np.random.randint(5, 10, (5, 3)) # returns a random array of size (5, 3), values between [5, 10)\n",
    "arr5"
   ]
  },
  {
   "cell_type": "code",
   "execution_count": 18,
   "metadata": {},
   "outputs": [
    {
     "ename": "TypeError",
     "evalue": "random() takes at most 1 positional argument (2 given)",
     "output_type": "error",
     "traceback": [
      "\u001b[1;31m---------------------------------------------------------------------------\u001b[0m",
      "\u001b[1;31mTypeError\u001b[0m                                 Traceback (most recent call last)",
      "\u001b[1;32m<ipython-input-18-e05c6c5ebd4c>\u001b[0m in \u001b[0;36m<module>\u001b[1;34m\u001b[0m\n\u001b[0;32m      2\u001b[0m \u001b[1;31m# NOTE: THESE METHODS DON'T USUALLY BREAK; THEY WORK FOR EVERY POSSIBLE INPUT;\u001b[0m\u001b[1;33m\u001b[0m\u001b[1;33m\u001b[0m\u001b[1;33m\u001b[0m\u001b[0m\n\u001b[0;32m      3\u001b[0m \u001b[1;31m# Just the parentheses are TO BE KEPT IN MIND;\u001b[0m\u001b[1;33m\u001b[0m\u001b[1;33m\u001b[0m\u001b[1;33m\u001b[0m\u001b[0m\n\u001b[1;32m----> 4\u001b[1;33m \u001b[0mnp\u001b[0m\u001b[1;33m.\u001b[0m\u001b[0mrandom\u001b[0m\u001b[1;33m.\u001b[0m\u001b[0mrandom\u001b[0m\u001b[1;33m(\u001b[0m\u001b[1;36m5\u001b[0m\u001b[1;33m,\u001b[0m \u001b[1;36m3\u001b[0m\u001b[1;33m)\u001b[0m\u001b[1;33m\u001b[0m\u001b[1;33m\u001b[0m\u001b[0m\n\u001b[0m",
      "\u001b[1;32mmtrand.pyx\u001b[0m in \u001b[0;36mnumpy.random.mtrand.RandomState.random\u001b[1;34m()\u001b[0m\n",
      "\u001b[1;31mTypeError\u001b[0m: random() takes at most 1 positional argument (2 given)"
     ]
    }
   ],
   "source": [
    "# Example - breaking (to illustrate when it breaks)\n",
    "# NOTE: THESE METHODS DON'T USUALLY BREAK; THEY WORK FOR EVERY POSSIBLE INPUT;\n",
    "# Just the parentheses are TO BE KEPT IN MIND;\n",
    "np.random.random(5, 3)"
   ]
  },
  {
   "cell_type": "markdown",
   "metadata": {},
   "source": [
    "##### NOTE: THESE METHODS DON'T USUALLY BREAK; THEY WORK FOR EVERY POSSIBLE INPUT;\n",
    "###### Just the parentheses are TO BE KEPT IN MIND;\n",
    "- Since, a single argument: **shape** is to be passed, hence the input should have been `(5, 3)` instead of `5, 3`!"
   ]
  },
  {
   "cell_type": "markdown",
   "metadata": {},
   "source": [
    "##### Some closing comments:\n",
    "- these methods help a lot for testing purposes;\n",
    "- they also help in generating random raw data;\n",
    "- everyone should know the difference between all of them!"
   ]
  },
  {
   "cell_type": "code",
   "execution_count": null,
   "metadata": {},
   "outputs": [],
   "source": []
  },
  {
   "cell_type": "code",
   "execution_count": null,
   "metadata": {},
   "outputs": [],
   "source": []
  },
  {
   "cell_type": "markdown",
   "metadata": {},
   "source": [
    "## Function 4 - `np.diag()`\n",
    "\n",
    "- diag represents diagonal;\n",
    "\n",
    "```python\n",
    "np.diag(v, k=0)\n",
    "'''\n",
    "# Parameters\n",
    "----------\n",
    "v : array_like\n",
    "    If `v` is a 2-D array, return a copy of its `k`-th diagonal.\n",
    "    If `v` is a 1-D array, return a 2-D array with `v` on the `k`-th\n",
    "    diagonal.\n",
    "k : int, optional\n",
    "    Diagonal in question. The default is 0. Use `k>0` for diagonals\n",
    "    above the main diagonal, and `k<0` for diagonals below the main\n",
    "    diagonal.\n",
    "'''\n",
    "# Extract a diagonal or construct a diagonal array.\n",
    "```"
   ]
  },
  {
   "cell_type": "code",
   "execution_count": 19,
   "metadata": {},
   "outputs": [
    {
     "data": {
      "text/plain": [
       "array([1, 5, 9])"
      ]
     },
     "execution_count": 19,
     "metadata": {},
     "output_type": "execute_result"
    }
   ],
   "source": [
    "# Example 1 - working\n",
    "arr1 = np.array([[1, 2, 3], \n",
    "                 [4, 5, 6], \n",
    "                 [7, 8, 9]])\n",
    "np.diag(arr1)    # extracting a diagonal from a defined array;"
   ]
  },
  {
   "cell_type": "code",
   "execution_count": 20,
   "metadata": {},
   "outputs": [
    {
     "data": {
      "text/plain": [
       "array([[1., 0., 0., 0., 0.],\n",
       "       [0., 1., 0., 0., 0.],\n",
       "       [0., 0., 1., 0., 0.],\n",
       "       [0., 0., 0., 1., 0.],\n",
       "       [0., 0., 0., 0., 1.]])"
      ]
     },
     "execution_count": 20,
     "metadata": {},
     "output_type": "execute_result"
    }
   ],
   "source": [
    "arr2 = np.eye(5)\n",
    "arr2"
   ]
  },
  {
   "cell_type": "code",
   "execution_count": 21,
   "metadata": {},
   "outputs": [
    {
     "data": {
      "text/plain": [
       "array([0., 0., 0., 0.])"
      ]
     },
     "execution_count": 21,
     "metadata": {},
     "output_type": "execute_result"
    }
   ],
   "source": [
    "# Example 2 - working;\n",
    "np.diag(arr2, k = -1)"
   ]
  },
  {
   "cell_type": "markdown",
   "metadata": {},
   "source": [
    "#### k : int, optional\n",
    " \n",
    "- The default is 0. Use **`k>0`** for diagonals *above the main diagonal*, and **`k<0`** for diagonals *below the main diagonal*"
   ]
  },
  {
   "cell_type": "markdown",
   "metadata": {},
   "source": [
    "###### Printing a 5x5 matrix with values 1,2,3,4 just above the diagonal, "
   ]
  },
  {
   "cell_type": "code",
   "execution_count": 22,
   "metadata": {},
   "outputs": [
    {
     "data": {
      "text/plain": [
       "array([[0, 0, 1, 0, 0, 0],\n",
       "       [0, 0, 0, 2, 0, 0],\n",
       "       [0, 0, 0, 0, 3, 0],\n",
       "       [0, 0, 0, 0, 0, 4],\n",
       "       [0, 0, 0, 0, 0, 0],\n",
       "       [0, 0, 0, 0, 0, 0]])"
      ]
     },
     "execution_count": 22,
     "metadata": {},
     "output_type": "execute_result"
    }
   ],
   "source": [
    "# Example 2.1 - working \n",
    "np.diag(np.arange(1, 5), k = 2)\n",
    "# dynamically changing size of the matrix;"
   ]
  },
  {
   "cell_type": "code",
   "execution_count": 23,
   "metadata": {},
   "outputs": [
    {
     "ename": "TypeError",
     "evalue": "_diag_dispatcher() missing 1 required positional argument: 'v'",
     "output_type": "error",
     "traceback": [
      "\u001b[1;31m---------------------------------------------------------------------------\u001b[0m",
      "\u001b[1;31mTypeError\u001b[0m                                 Traceback (most recent call last)",
      "\u001b[1;32m<ipython-input-23-f167321d1b38>\u001b[0m in \u001b[0;36m<module>\u001b[1;34m\u001b[0m\n\u001b[0;32m      1\u001b[0m \u001b[1;31m# Example 3 - breaking (to illustrate when it breaks)\u001b[0m\u001b[1;33m\u001b[0m\u001b[1;33m\u001b[0m\u001b[1;33m\u001b[0m\u001b[0m\n\u001b[1;32m----> 2\u001b[1;33m \u001b[0mnp\u001b[0m\u001b[1;33m.\u001b[0m\u001b[0mdiag\u001b[0m\u001b[1;33m(\u001b[0m\u001b[1;33m)\u001b[0m\u001b[1;33m\u001b[0m\u001b[1;33m\u001b[0m\u001b[0m\n\u001b[0m",
      "\u001b[1;32m<__array_function__ internals>\u001b[0m in \u001b[0;36mdiag\u001b[1;34m(*args, **kwargs)\u001b[0m\n",
      "\u001b[1;31mTypeError\u001b[0m: _diag_dispatcher() missing 1 required positional argument: 'v'"
     ]
    }
   ],
   "source": [
    "# Example 3 - breaking (to illustrate when it breaks)\n",
    "np.diag()"
   ]
  },
  {
   "cell_type": "markdown",
   "metadata": {},
   "source": [
    "1 required positional argument: array_like\n",
    "    If `v` is a 2-D array, return a copy of its `k`-th diagonal.\n",
    "    If `v` is a 1-D array, return a 2-D array with `v` on the `k`-th\n",
    "    diagonal. "
   ]
  },
  {
   "cell_type": "markdown",
   "metadata": {},
   "source": [
    "##### Some closing comments:\n",
    "- `np.diag()` is very helpful in **matrix manipulations and calculations** related to the diagonal..!!"
   ]
  },
  {
   "cell_type": "code",
   "execution_count": null,
   "metadata": {},
   "outputs": [],
   "source": []
  },
  {
   "cell_type": "code",
   "execution_count": null,
   "metadata": {},
   "outputs": [],
   "source": []
  },
  {
   "cell_type": "markdown",
   "metadata": {},
   "source": [
    "## Function 5 - `np.pad`\n",
    "\n",
    "Signature: np.pad(array, pad_width, mode='constant', **kwargs)\n",
    "Docstring:\n",
    "Pad an array.\n",
    "\n",
    "Parameters\n",
    "----------\n",
    "- array : array_like of rank N\n",
    "    - The array to pad.\n",
    "- pad_width : {sequence, array_like, int}\n",
    "- mode : str or function, optional\n",
    "    One of the following string values or a user supplied function.\n",
    "\n",
    "    'constant' (default)\n",
    "        Pads with a constant value.\n",
    "    'edge'\n",
    "        Pads with the edge values of array.\n",
    "    'maximum'\n",
    "        Pads with the maximum value of all or part of the\n",
    "        vector along each axis.\n",
    "    'mean'\n",
    "        Pads with the mean value of all or part of the\n",
    "        vector along each axis.\n",
    "    'median'\n",
    "        Pads with the median value of all or part of the\n",
    "        vector along each axis.\n",
    "    'minimum'\n",
    "        Pads with the minimum value of all or part of the\n",
    "        vector along each axis.\n",
    "    'symmetric'\n",
    "        Pads with the reflection of the vector mirrored\n",
    "        along the edge of the array.\n",
    "    'wrap'\n",
    "        Pads with the wrap of the vector along the axis.\n",
    "        The first values are used to pad the end and the\n",
    "        end values are used to pad the beginning.\n",
    "    'empty'\n",
    "        Pads with undefined values.\n",
    "        \n",
    "Returns\n",
    "-------\n",
    "pad : ndarray\n",
    "    Padded array of rank equal to `array` with shape increased\n",
    "    according to `pad_width`.\n"
   ]
  },
  {
   "cell_type": "markdown",
   "metadata": {},
   "source": [
    "#### Assume a random array of shape (5, 5)\n",
    "\n",
    "### Now, how would you add a border (filled with 0's) around it?\n",
    "\n",
    "##### The NAIVE APPROACH would be hardcore indexing!"
   ]
  },
  {
   "cell_type": "code",
   "execution_count": 24,
   "metadata": {},
   "outputs": [
    {
     "data": {
      "text/plain": [
       "array([[1., 1., 1., 1., 1.],\n",
       "       [1., 1., 1., 1., 1.],\n",
       "       [1., 1., 1., 1., 1.],\n",
       "       [1., 1., 1., 1., 1.],\n",
       "       [1., 1., 1., 1., 1.]])"
      ]
     },
     "execution_count": 24,
     "metadata": {},
     "output_type": "execute_result"
    }
   ],
   "source": [
    "arr = np.ones((5,5))\n",
    "arr"
   ]
  },
  {
   "cell_type": "code",
   "execution_count": 25,
   "metadata": {},
   "outputs": [
    {
     "data": {
      "text/plain": [
       "array([[0., 0., 0., 0., 0.],\n",
       "       [0., 1., 1., 1., 0.],\n",
       "       [0., 1., 1., 1., 0.],\n",
       "       [0., 1., 1., 1., 0.],\n",
       "       [0., 0., 0., 0., 0.]])"
      ]
     },
     "execution_count": 25,
     "metadata": {},
     "output_type": "execute_result"
    }
   ],
   "source": [
    "# NAIVE APPROACH - using indexing;\n",
    "arr[0], arr[-1] = 0, 0\n",
    "arr[:, 0:1], arr[:, -1] = 0, 0\n",
    "arr"
   ]
  },
  {
   "cell_type": "code",
   "execution_count": 26,
   "metadata": {},
   "outputs": [
    {
     "data": {
      "text/plain": [
       "array([[0., 0., 0., 0., 0.],\n",
       "       [0., 1., 1., 1., 0.],\n",
       "       [0., 1., 1., 1., 0.],\n",
       "       [0., 1., 1., 1., 0.],\n",
       "       [0., 0., 0., 0., 0.]])"
      ]
     },
     "execution_count": 26,
     "metadata": {},
     "output_type": "execute_result"
    }
   ],
   "source": [
    "# Example 1 - working\n",
    "arr = np.ones((3, 3))\n",
    "np.pad(arr, pad_width=1, mode='constant', constant_values=0)"
   ]
  },
  {
   "cell_type": "markdown",
   "metadata": {},
   "source": [
    "#### NOTE: It adds padding to exisiting array; and doesn't edit the array!"
   ]
  },
  {
   "cell_type": "code",
   "execution_count": 27,
   "metadata": {},
   "outputs": [
    {
     "data": {
      "text/plain": [
       "array([[0.36731388, 0.47420486, 0.34393646, 0.28380033, 0.36731388],\n",
       "       [0.35776669, 0.32174829, 0.73107248, 0.02047931, 0.35776669],\n",
       "       [0.51370908, 0.61182062, 0.27853117, 0.65077545, 0.51370908],\n",
       "       [0.23046586, 0.48904565, 0.02220572, 0.18014621, 0.23046586],\n",
       "       [0.36731388, 0.47420486, 0.34393646, 0.28380033, 0.36731388]])"
      ]
     },
     "execution_count": 27,
     "metadata": {},
     "output_type": "execute_result"
    }
   ],
   "source": [
    "# Example 2 - working\n",
    "arr = np.random.rand(3, 3)\n",
    "np.pad(arr, pad_width=1, mode='mean')"
   ]
  },
  {
   "cell_type": "markdown",
   "metadata": {},
   "source": [
    "- There are **various modes**, with which we could pad the array with!"
   ]
  },
  {
   "cell_type": "code",
   "execution_count": 28,
   "metadata": {},
   "outputs": [
    {
     "ename": "TypeError",
     "evalue": "_pad_dispatcher() missing 1 required positional argument: 'pad_width'",
     "output_type": "error",
     "traceback": [
      "\u001b[1;31m---------------------------------------------------------------------------\u001b[0m",
      "\u001b[1;31mTypeError\u001b[0m                                 Traceback (most recent call last)",
      "\u001b[1;32m<ipython-input-28-7dfcbcc037dd>\u001b[0m in \u001b[0;36m<module>\u001b[1;34m\u001b[0m\n\u001b[0;32m      1\u001b[0m \u001b[1;31m# Example 3 - breaking (to illustrate when it breaks)\u001b[0m\u001b[1;33m\u001b[0m\u001b[1;33m\u001b[0m\u001b[1;33m\u001b[0m\u001b[0m\n\u001b[1;32m----> 2\u001b[1;33m \u001b[0mnp\u001b[0m\u001b[1;33m.\u001b[0m\u001b[0mpad\u001b[0m\u001b[1;33m(\u001b[0m\u001b[0marr\u001b[0m\u001b[1;33m,\u001b[0m \u001b[0mmode\u001b[0m \u001b[1;33m=\u001b[0m \u001b[1;34m\"minimum\"\u001b[0m\u001b[1;33m)\u001b[0m\u001b[1;33m\u001b[0m\u001b[1;33m\u001b[0m\u001b[0m\n\u001b[0m",
      "\u001b[1;32m<__array_function__ internals>\u001b[0m in \u001b[0;36mpad\u001b[1;34m(*args, **kwargs)\u001b[0m\n",
      "\u001b[1;31mTypeError\u001b[0m: _pad_dispatcher() missing 1 required positional argument: 'pad_width'"
     ]
    }
   ],
   "source": [
    "# Example 3 - breaking (to illustrate when it breaks)\n",
    "np.pad(arr, mode = \"minimum\")"
   ]
  },
  {
   "cell_type": "markdown",
   "metadata": {},
   "source": [
    "- Why it breaks: This usually breaks if it has missing position arguments: `array` and `pad_width` are **required positional arguments.**"
   ]
  },
  {
   "cell_type": "markdown",
   "metadata": {},
   "source": [
    "##### Some closing comments:\n",
    "- `np.pad()` is very helpful in **creating excess pseudo data**, which needs to be manipulated.\n",
    "- It has many, many modes which makes it very, very useful..!! "
   ]
  },
  {
   "cell_type": "code",
   "execution_count": null,
   "metadata": {},
   "outputs": [],
   "source": []
  },
  {
   "cell_type": "code",
   "execution_count": null,
   "metadata": {},
   "outputs": [],
   "source": []
  },
  {
   "cell_type": "markdown",
   "metadata": {},
   "source": [
    "## Conclusion\n",
    "\n",
    "### *List of functions explained:*\n",
    "```python\n",
    "function1 = np.where(condition, [x, y])\n",
    "function2 = np.unravel_index(indices, shape, order='C') \n",
    "function3 = np.random.randint(low, high=None, size=None, dtype='l')\n",
    "function4 = np.diag(array, k=0)\n",
    "function5 = np.pad(array, pad_width, mode='constant', **kwargs)\n",
    "```\n",
    "\n",
    "- **NumPy** has a whole lot of functions and methods, but it is impossible to know everything!\n",
    "- I hope, you learnt a lot, these functions are very useful! \n",
    "- The best way to *learn* it and get hang of it by *playing* along with it, in this Jupyter Notebook Playground!\n",
    "- As they say:\n",
    "    - ***A good programmer is a good googler!***\n",
    "        - so all you need to know is, how to *google* your required needs!\n",
    "            - so that your needs are fulfilled!\n",
    "            \n",
    "###### Thank you\n",
    "- [Tushar Nankani](https://github.com/tusharnankani)"
   ]
  },
  {
   "cell_type": "markdown",
   "metadata": {},
   "source": [
    "## Reference Links\n",
    "Provide links to your references and other interesting articles about Numpy arrays:\n",
    "- Official tutorial: https://numpy.org/devdocs/user/quickstart.html\n",
    "- Numpy tutorial on W3Schools: https://www.w3schools.com/python/numpy_intro.asp\n",
    "- Advanced Numpy (exploring the internals): http://scipy-lectures.org/advanced/advanced_numpy/index.html\n",
    "* Extra Help : https://appdividend.com/"
   ]
  },
  {
   "cell_type": "code",
   "execution_count": null,
   "metadata": {},
   "outputs": [],
   "source": []
  },
  {
   "cell_type": "code",
   "execution_count": null,
   "metadata": {},
   "outputs": [],
   "source": []
  }
 ],
 "metadata": {
  "kernelspec": {
   "display_name": "Python 3",
   "language": "python",
   "name": "python3"
  },
  "language_info": {
   "codemirror_mode": {
    "name": "ipython",
    "version": 3
   },
   "file_extension": ".py",
   "mimetype": "text/x-python",
   "name": "python",
   "nbconvert_exporter": "python",
   "pygments_lexer": "ipython3",
   "version": "3.7.6"
  }
 },
 "nbformat": 4,
 "nbformat_minor": 4
}
